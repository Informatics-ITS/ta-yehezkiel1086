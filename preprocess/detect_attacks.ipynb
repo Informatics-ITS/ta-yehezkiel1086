{
 "cells": [
  {
   "cell_type": "code",
   "execution_count": null,
   "id": "abf85fe0",
   "metadata": {},
   "outputs": [],
   "source": [
    "import pandas as pd\n",
    "import re\n",
    "\n",
    "df = pd.read_csv(\"../datas/tanner_report.csv\")\n",
    "\n",
    "patterns = {\n",
    "    # \"RFI\": r\"(?:https?|ftp):\\/\\/(?!202\\.10\\.35\\.215)([\\w.-]+)(?:\\/|$)\",\n",
    "    # \"LFI\": r\"(\\.\\.\\/)+|\\/(etc|proc|var|home|root|dev|tmp)\\/\",\n",
    "    # \"XSS\": r\"(?i)(<script.*?>.*?</script>|<.*?on\\w+\\s*=.*?>|javascript:|%3Cscript|alert\\s*\\(|document\\.cookie|<\\/script>)\",\n",
    "    # \"SQLi\": r\"(?i)(\\bselect\\b.*?\\bfrom\\b|\\binsert\\b.*?\\binto\\b|\\bunion\\b.*?\\bselect\\b|drop\\s+table|--|\\bOR\\b\\s+\\d+=\\d+|sleep\\s*\\(|benchmark\\s*\\(|\\bupdate\\b.*?\\bset\\b)\",\n",
    "    # \"Command Injection\": r\"(;|\\|\\||&&|\\b(cat|ls|wget|curl|whoami|ping|nc|bash|sh|python|perl)\\b)\",\n",
    "    # \"PHP Code Injection\": r\"(?i)(eval\\s*\\(|assert\\s*\\(|system\\s*\\(|passthru\\s*\\(|base64_decode\\s*\\(|shell_exec\\s*\\(|`[^`]*`)\",\n",
    "    # \"PHP Object Injection\": r\"O:\\d+:\\\"[^\\\"]+\\\":\\d+:\\{.*?\\}\",\n",
    "    # \"CRLF\": r\"(%0d%0a|\\r\\n|\\n\\r|\\r|\\n)\",\n",
    "    # \"XXE\": r\"(?i)<\\?xml.*?\\?>|<!DOCTYPE\\s+[a-zA-Z]+.*?>\",\n",
    "    # \"Template Injection\": r\"(\\{\\{.*?\\}\\}|\\{%.+?%\\}|__proto__|constructor\\s*\\(|toString\\s*\\()\"\n",
    "\n",
    "    \"LFI\": r\"(\\.\\./)+|/etc/passwd|/proc/self/environ\",\n",
    "    \"RFI\": r\"(https?:)?//[^\\s]+(\\.php|\\.txt)?\",\n",
    "    \"SQLi\": r\"('|\\\"|;|--|\\b(OR|AND|SELECT|UNION|INSERT|UPDATE|DROP|WHERE|HAVING|BENCHMARK)\\b)\",\n",
    "    \"XSS\": r\"(<script.*?>.*?</script>|<[^>]+on\\w+=|javascript:|data:text/html|&#x?[0-9a-f]+;)\",\n",
    "    \"Command Injection\": r\"(;|\\||&&|`|\\$\\(.*?\\)|\\b(cat|ls|whoami|nc|curl|wget)\\b)\",\n",
    "    \"PHP Code Injection\": r\"<\\?(php)?\\s+.*?\\?>\",\n",
    "    \"PHP Object Injection\": r\"O:\\d+:\\\"[A-Za-z0-9_]+\\\":\\d+:\\{.*?\\}\",\n",
    "    \"CRLF\": r\"%0d%0a|%0a|%0d|\\r\\n|\\n|\\r\",\n",
    "    \"XXE\": r\"(<!DOCTYPE\\s+[^>]*\\[\\s*<!ENTITY\\s+)\",\n",
    "    \"Template Injection\": r\"({[{%].*?[}%]})\",\n",
    "}\n",
    "\n",
    "def detect_attack(path, detection_name=None):\n",
    "    if detection_name is not None:\n",
    "        if detection_name.lower() == \"sqli\":\n",
    "            return \"SQLi\"\n",
    "        elif detection_name.lower() == \"xss\":\n",
    "            return \"XSS\"\n",
    "    for attack_type, pattern in patterns.items():\n",
    "        if re.search(pattern, path, re.IGNORECASE):\n",
    "            return attack_type\n",
    "    return \"Unknown\"\n",
    "\n",
    "d_attack = {\n",
    "    \"Unknown\": 0,\n",
    "    \"RFI\": 1,\n",
    "    \"LFI\": 2,\n",
    "    \"XSS\": 3,\n",
    "    \"SQLi\": 4,\n",
    "    \"Command Injection\": 5,\n",
    "    \"PHP Code Injection\": 6,\n",
    "    \"PHP Object Injection\": 7,\n",
    "    \"CRLF\": 8,\n",
    "    \"XXE\": 9,\n",
    "    \"Template Injection\": 10\n",
    "}"
   ]
  },
  {
   "cell_type": "code",
   "execution_count": 8,
   "id": "71573b1a",
   "metadata": {},
   "outputs": [],
   "source": [
    "df[\"attack_name\"] = df.apply(lambda row: detect_attack(row[\"path\"], row[\"detection_name\"]), axis=1)\n",
    "df[\"attack_type\"] = df[\"attack_name\"].map(d_attack)\n",
    "\n",
    "# df[\"attack_name\"] = df[\"path\"].apply(detect_attack)\n",
    "# df[\"attack_type\"] = df[\"attack_name\"].map(d_attack)"
   ]
  },
  {
   "cell_type": "code",
   "execution_count": 9,
   "id": "6be32c2c",
   "metadata": {},
   "outputs": [],
   "source": [
    "df.to_csv('detected.csv')"
   ]
  }
 ],
 "metadata": {
  "kernelspec": {
   "display_name": ".venv",
   "language": "python",
   "name": "python3"
  },
  "language_info": {
   "codemirror_mode": {
    "name": "ipython",
    "version": 3
   },
   "file_extension": ".py",
   "mimetype": "text/x-python",
   "name": "python",
   "nbconvert_exporter": "python",
   "pygments_lexer": "ipython3",
   "version": "3.13.2"
  }
 },
 "nbformat": 4,
 "nbformat_minor": 5
}
